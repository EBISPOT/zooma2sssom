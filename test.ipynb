{
 "cells": [
  {
   "cell_type": "code",
   "execution_count": 9,
   "metadata": {},
   "outputs": [
    {
     "name": "stderr",
     "output_type": "stream",
     "text": [
      "WARNING:root:Using rdflib rdf/xml parser; this behavior may change in future\n"
     ]
    }
   ],
   "source": [
    "\n",
    "import pandas as pd\n",
    "import oaklib\n",
    "\n",
    "mappings = pd.read_csv('mappings/gwas.zooma.sssom.tsv', sep='\\t')\n",
    "efo = oaklib.get_adapter('efo.owl')\n"
   ]
  },
  {
   "cell_type": "code",
   "execution_count": 24,
   "metadata": {},
   "outputs": [
    {
     "name": "stderr",
     "output_type": "stream",
     "text": [
      "/var/folders/xm/sqhcspb931ldqj8nkjc8r7zm0000gp/T/ipykernel_57552/2176537762.py:7: DeprecatedWarning: alias_map_by_curie is deprecated as of Replaced by alias_map(curie).\n",
      "  alias_map = efo.alias_map_by_curie(curie)\n"
     ]
    },
    {
     "name": "stdout",
     "output_type": "stream",
     "text": [
      "['interleukin 17 receptor B measurement']\n",
      "['CD6 measurement']\n",
      "['congestive heart failure', 'CCF - Congestive cardiac failure', 'CHF', 'CHF - Congestive heart failure', 'CHF NOS', 'Cardiac Failure', 'Cardiac Failure Congestive', 'Congestive cardiac failure', 'Congestive heart disease', 'Congestive heart failure (disorder)', 'Congestive heart failure, unspecified', 'Congetive cardiac failure', 'Decompensation, Heart', 'FAILURE, CONGESTIVE HEART', 'Heart Decompensation', 'Heart Failure, Congestive', 'Myocardial Failure', 'cardiac failure, congestive', 'congestive heart disease', 'congestive heart failure', 'failure, congestive heart', 'heart failure, congestive', 'weak heart']\n",
      "['obsolete_urine volume measurement', 'urinary volume measurement']\n",
      "['behavioural inhibitory control measurement', 'inhibitory control measurement']\n",
      "['obsolete_serum immunoglobulin measurement']\n",
      "['acoustic startle blink response measurement']\n"
     ]
    },
    {
     "ename": "KeyboardInterrupt",
     "evalue": "",
     "output_type": "error",
     "traceback": [
      "\u001b[31m---------------------------------------------------------------------------\u001b[39m",
      "\u001b[31mKeyboardInterrupt\u001b[39m                         Traceback (most recent call last)",
      "\u001b[36mCell\u001b[39m\u001b[36m \u001b[39m\u001b[32mIn[24]\u001b[39m\u001b[32m, line 8\u001b[39m\n\u001b[32m      6\u001b[39m curie = row[\u001b[33m'\u001b[39m\u001b[33mobject_id\u001b[39m\u001b[33m'\u001b[39m].replace(\u001b[33m'\u001b[39m\u001b[33mhttp://www.ebi.ac.uk/efo/EFO_\u001b[39m\u001b[33m'\u001b[39m, \u001b[33m'\u001b[39m\u001b[33mEFO:\u001b[39m\u001b[33m'\u001b[39m)\n\u001b[32m      7\u001b[39m alias_map = efo.alias_map_by_curie(curie)\n\u001b[32m----> \u001b[39m\u001b[32m8\u001b[39m all_labels = [\u001b[43mefo\u001b[49m\u001b[43m.\u001b[49m\u001b[43mlabel\u001b[49m\u001b[43m(\u001b[49m\u001b[43mcurie\u001b[49m\u001b[43m)\u001b[49m] + alias_map[\u001b[33m'\u001b[39m\u001b[33moio:hasExactSynonym\u001b[39m\u001b[33m'\u001b[39m]\n\u001b[32m      9\u001b[39m \u001b[38;5;28mprint\u001b[39m(all_labels)\n\u001b[32m     10\u001b[39m \u001b[38;5;28;01mif\u001b[39;00m \u001b[38;5;129;01mnot\u001b[39;00m label \u001b[38;5;129;01min\u001b[39;00m all_labels:\n",
      "\u001b[36mFile \u001b[39m\u001b[32m~/zooma2sssom/venv/lib/python3.13/site-packages/oaklib/implementations/sparql/abstract_sparql_implementation.py:650\u001b[39m, in \u001b[36mAbstractSparqlImplementation.label\u001b[39m\u001b[34m(self, curie, lang)\u001b[39m\n\u001b[32m    648\u001b[39m \u001b[38;5;28;01mif\u001b[39;00m lang:\n\u001b[32m    649\u001b[39m     \u001b[38;5;28;01mraise\u001b[39;00m \u001b[38;5;167;01mNotImplementedError\u001b[39;00m(\u001b[33m\"\u001b[39m\u001b[33mLanguage selection not implemented yet\u001b[39m\u001b[33m\"\u001b[39m)\n\u001b[32m--> \u001b[39m\u001b[32m650\u001b[39m labels = \u001b[38;5;28;43mlist\u001b[39;49m\u001b[43m(\u001b[49m\u001b[38;5;28;43mself\u001b[39;49m\u001b[43m.\u001b[49m\u001b[43mlabels\u001b[49m\u001b[43m(\u001b[49m\u001b[43m[\u001b[49m\u001b[43mcurie\u001b[49m\u001b[43m]\u001b[49m\u001b[43m,\u001b[49m\u001b[43m \u001b[49m\u001b[43mlang\u001b[49m\u001b[43m=\u001b[49m\u001b[43mlang\u001b[49m\u001b[43m)\u001b[49m\u001b[43m)\u001b[49m\n\u001b[32m    651\u001b[39m \u001b[38;5;28;01mif\u001b[39;00m labels:\n\u001b[32m    652\u001b[39m     \u001b[38;5;28;01mif\u001b[39;00m \u001b[38;5;28mlen\u001b[39m(labels) > \u001b[32m1\u001b[39m:\n",
      "\u001b[36mFile \u001b[39m\u001b[32m~/zooma2sssom/venv/lib/python3.13/site-packages/oaklib/implementations/sparql/abstract_sparql_implementation.py:671\u001b[39m, in \u001b[36mAbstractSparqlImplementation.labels\u001b[39m\u001b[34m(self, curies, allow_none, lang)\u001b[39m\n\u001b[32m    669\u001b[39m \u001b[38;5;28;01mif\u001b[39;00m lang:\n\u001b[32m    670\u001b[39m     query.where.append(\u001b[33mf\u001b[39m\u001b[33m'\u001b[39m\u001b[33mFILTER (LANG(?label) = \u001b[39m\u001b[33m\"\u001b[39m\u001b[38;5;132;01m{\u001b[39;00mlang\u001b[38;5;132;01m}\u001b[39;00m\u001b[33m\"\u001b[39m\u001b[33m)\u001b[39m\u001b[33m'\u001b[39m)\n\u001b[32m--> \u001b[39m\u001b[32m671\u001b[39m bindings = \u001b[38;5;28;43mself\u001b[39;49m\u001b[43m.\u001b[49m\u001b[43m_sparql_query\u001b[49m\u001b[43m(\u001b[49m\u001b[43mquery\u001b[49m\u001b[43m)\u001b[49m\n\u001b[32m    672\u001b[39m label_map = {}\n\u001b[32m    673\u001b[39m \u001b[38;5;28;01mfor\u001b[39;00m row \u001b[38;5;129;01min\u001b[39;00m bindings:\n",
      "\u001b[36mFile \u001b[39m\u001b[32m~/zooma2sssom/venv/lib/python3.13/site-packages/oaklib/implementations/sparql/abstract_sparql_implementation.py:292\u001b[39m, in \u001b[36mAbstractSparqlImplementation._sparql_query\u001b[39m\u001b[34m(self, query, prefixes)\u001b[39m\n\u001b[32m    289\u001b[39m     \u001b[38;5;28;01mreturn\u001b[39;00m \u001b[38;5;28mdict\u001b[39m(value=val, datatype=dt, \u001b[38;5;28mtype\u001b[39m=t)\n\u001b[32m    291\u001b[39m logging.debug(\u001b[33mf\u001b[39m\u001b[33m\"\u001b[39m\u001b[33mQuery=\u001b[39m\u001b[38;5;132;01m{\u001b[39;00mquery\u001b[38;5;132;01m}\u001b[39;00m\u001b[33m\"\u001b[39m)\n\u001b[32m--> \u001b[39m\u001b[32m292\u001b[39m \u001b[43m\u001b[49m\u001b[38;5;28;43;01mfor\u001b[39;49;00m\u001b[43m \u001b[49m\u001b[43mrow\u001b[49m\u001b[43m \u001b[49m\u001b[38;5;129;43;01min\u001b[39;49;00m\u001b[43m \u001b[49m\u001b[38;5;28;43mself\u001b[39;49m\u001b[43m.\u001b[49m\u001b[43mgraph\u001b[49m\u001b[43m.\u001b[49m\u001b[43mquery\u001b[49m\u001b[43m(\u001b[49m\u001b[43mquery\u001b[49m\u001b[43m)\u001b[49m\u001b[43m:\u001b[49m\n\u001b[32m    293\u001b[39m \u001b[43m    \u001b[49m\u001b[43mrows\u001b[49m\u001b[43m.\u001b[49m\u001b[43mappend\u001b[49m\u001b[43m(\u001b[49m\u001b[43m{\u001b[49m\u001b[43mk\u001b[49m\u001b[43m:\u001b[49m\u001b[43m \u001b[49m\u001b[43mtr\u001b[49m\u001b[43m(\u001b[49m\u001b[43mrow\u001b[49m\u001b[43m[\u001b[49m\u001b[43mk\u001b[49m\u001b[43m]\u001b[49m\u001b[43m)\u001b[49m\u001b[43m \u001b[49m\u001b[38;5;28;43;01mfor\u001b[39;49;00m\u001b[43m \u001b[49m\u001b[43mk\u001b[49m\u001b[43m \u001b[49m\u001b[38;5;129;43;01min\u001b[39;49;00m\u001b[43m \u001b[49m\u001b[43mrow\u001b[49m\u001b[43m.\u001b[49m\u001b[43mlabels\u001b[49m\u001b[43m}\u001b[49m\u001b[43m)\u001b[49m\n\u001b[32m    294\u001b[39m \u001b[38;5;28;01mreturn\u001b[39;00m rows\n",
      "\u001b[36mFile \u001b[39m\u001b[32m~/zooma2sssom/venv/lib/python3.13/site-packages/rdflib/query.py:372\u001b[39m, in \u001b[36mResult.__iter__\u001b[39m\u001b[34m(self)\u001b[39m\n\u001b[32m    368\u001b[39m \u001b[38;5;28;01melif\u001b[39;00m \u001b[38;5;28mself\u001b[39m.type == \u001b[33m\"\u001b[39m\u001b[33mSELECT\u001b[39m\u001b[33m\"\u001b[39m:\n\u001b[32m    369\u001b[39m     \u001b[38;5;66;03m# this iterates over ResultRows of variable bindings\u001b[39;00m\n\u001b[32m    371\u001b[39m     \u001b[38;5;28;01mif\u001b[39;00m \u001b[38;5;28mself\u001b[39m._genbindings:\n\u001b[32m--> \u001b[39m\u001b[32m372\u001b[39m \u001b[43m        \u001b[49m\u001b[38;5;28;43;01mfor\u001b[39;49;00m\u001b[43m \u001b[49m\u001b[43mb\u001b[49m\u001b[43m \u001b[49m\u001b[38;5;129;43;01min\u001b[39;49;00m\u001b[43m \u001b[49m\u001b[38;5;28;43mself\u001b[39;49m\u001b[43m.\u001b[49m\u001b[43m_genbindings\u001b[49m\u001b[43m:\u001b[49m\n\u001b[32m    373\u001b[39m \u001b[43m            \u001b[49m\u001b[38;5;28;43;01mif\u001b[39;49;00m\u001b[43m \u001b[49m\u001b[43mb\u001b[49m\u001b[43m:\u001b[49m\u001b[43m  \u001b[49m\u001b[38;5;66;43;03m# don't add a result row in case of empty binding {}\u001b[39;49;00m\n\u001b[32m    374\u001b[39m \u001b[43m                \u001b[49m\u001b[38;5;28;43mself\u001b[39;49m\u001b[43m.\u001b[49m\u001b[43m_bindings\u001b[49m\u001b[43m.\u001b[49m\u001b[43mappend\u001b[49m\u001b[43m(\u001b[49m\u001b[43mb\u001b[49m\u001b[43m)\u001b[49m\n",
      "\u001b[36mFile \u001b[39m\u001b[32m~/zooma2sssom/venv/lib/python3.13/site-packages/rdflib/plugins/sparql/evaluate.py:574\u001b[39m, in \u001b[36m<genexpr>\u001b[39m\u001b[34m(.0)\u001b[39m\n\u001b[32m    572\u001b[39m \u001b[38;5;28;01mdef\u001b[39;00m\u001b[38;5;250m \u001b[39m\u001b[34mevalProject\u001b[39m(ctx: QueryContext, project: CompValue):\n\u001b[32m    573\u001b[39m     res = evalPart(ctx, project.p)\n\u001b[32m--> \u001b[39m\u001b[32m574\u001b[39m     \u001b[38;5;28;01mreturn\u001b[39;00m \u001b[43m(\u001b[49m\u001b[43mrow\u001b[49m\u001b[43m.\u001b[49m\u001b[43mproject\u001b[49m\u001b[43m(\u001b[49m\u001b[43mproject\u001b[49m\u001b[43m.\u001b[49m\u001b[43mPV\u001b[49m\u001b[43m)\u001b[49m\u001b[43m \u001b[49m\u001b[38;5;28;43;01mfor\u001b[39;49;00m\u001b[43m \u001b[49m\u001b[43mrow\u001b[49m\u001b[43m \u001b[49m\u001b[38;5;129;43;01min\u001b[39;49;00m\u001b[43m \u001b[49m\u001b[43mres\u001b[49m\u001b[43m)\u001b[49m\n",
      "\u001b[36mFile \u001b[39m\u001b[32m~/zooma2sssom/venv/lib/python3.13/site-packages/rdflib/plugins/sparql/evaluate.py:151\u001b[39m, in \u001b[36mevalLazyJoin\u001b[39m\u001b[34m(ctx, join)\u001b[39m\n\u001b[32m    142\u001b[39m \u001b[38;5;28;01mdef\u001b[39;00m\u001b[38;5;250m \u001b[39m\u001b[34mevalLazyJoin\u001b[39m(\n\u001b[32m    143\u001b[39m     ctx: QueryContext, join: CompValue\n\u001b[32m    144\u001b[39m ) -> Generator[FrozenBindings, \u001b[38;5;28;01mNone\u001b[39;00m, \u001b[38;5;28;01mNone\u001b[39;00m]:\n\u001b[32m    145\u001b[39m \u001b[38;5;250m    \u001b[39m\u001b[33;03m\"\"\"\u001b[39;00m\n\u001b[32m    146\u001b[39m \u001b[33;03m    A lazy join will push the variables bound\u001b[39;00m\n\u001b[32m    147\u001b[39m \u001b[33;03m    in the first part to the second part,\u001b[39;00m\n\u001b[32m    148\u001b[39m \u001b[33;03m    essentially doing the join implicitly\u001b[39;00m\n\u001b[32m    149\u001b[39m \u001b[33;03m    hopefully evaluating much fewer triples\u001b[39;00m\n\u001b[32m    150\u001b[39m \u001b[33;03m    \"\"\"\u001b[39;00m\n\u001b[32m--> \u001b[39m\u001b[32m151\u001b[39m \u001b[43m    \u001b[49m\u001b[38;5;28;43;01mfor\u001b[39;49;00m\u001b[43m \u001b[49m\u001b[43ma\u001b[49m\u001b[43m \u001b[49m\u001b[38;5;129;43;01min\u001b[39;49;00m\u001b[43m \u001b[49m\u001b[43mevalPart\u001b[49m\u001b[43m(\u001b[49m\u001b[43mctx\u001b[49m\u001b[43m,\u001b[49m\u001b[43m \u001b[49m\u001b[43mjoin\u001b[49m\u001b[43m.\u001b[49m\u001b[43mp1\u001b[49m\u001b[43m)\u001b[49m\u001b[43m:\u001b[49m\n\u001b[32m    152\u001b[39m \u001b[43m        \u001b[49m\u001b[43mc\u001b[49m\u001b[43m \u001b[49m\u001b[43m=\u001b[49m\u001b[43m \u001b[49m\u001b[43mctx\u001b[49m\u001b[43m.\u001b[49m\u001b[43mthaw\u001b[49m\u001b[43m(\u001b[49m\u001b[43ma\u001b[49m\u001b[43m)\u001b[49m\n\u001b[32m    153\u001b[39m \u001b[43m        \u001b[49m\u001b[38;5;28;43;01mfor\u001b[39;49;00m\u001b[43m \u001b[49m\u001b[43mb\u001b[49m\u001b[43m \u001b[49m\u001b[38;5;129;43;01min\u001b[39;49;00m\u001b[43m \u001b[49m\u001b[43mevalPart\u001b[49m\u001b[43m(\u001b[49m\u001b[43mc\u001b[49m\u001b[43m,\u001b[49m\u001b[43m \u001b[49m\u001b[43mjoin\u001b[49m\u001b[43m.\u001b[49m\u001b[43mp2\u001b[49m\u001b[43m)\u001b[49m\u001b[43m:\u001b[49m\n",
      "\u001b[36mFile \u001b[39m\u001b[32m~/zooma2sssom/venv/lib/python3.13/site-packages/rdflib/plugins/sparql/evaluate.py:97\u001b[39m, in \u001b[36mevalBGP\u001b[39m\u001b[34m(ctx, bgp)\u001b[39m\n\u001b[32m     93\u001b[39m _o = ctx[o]\n\u001b[32m     95\u001b[39m \u001b[38;5;66;03m# type error: Item \"None\" of \"Optional[Graph]\" has no attribute \"triples\"\u001b[39;00m\n\u001b[32m     96\u001b[39m \u001b[38;5;66;03m# type Argument 1 to \"triples\" of \"Graph\" has incompatible type \"Tuple[Union[str, Path, None], Union[str, Path, None], Union[str, Path, None]]\"; expected \"Tuple[Optional[Node], Optional[Node], Optional[Node]]\"\u001b[39;00m\n\u001b[32m---> \u001b[39m\u001b[32m97\u001b[39m \u001b[43m\u001b[49m\u001b[38;5;28;43;01mfor\u001b[39;49;00m\u001b[43m \u001b[49m\u001b[43mss\u001b[49m\u001b[43m,\u001b[49m\u001b[43m \u001b[49m\u001b[43msp\u001b[49m\u001b[43m,\u001b[49m\u001b[43m \u001b[49m\u001b[43mso\u001b[49m\u001b[43m \u001b[49m\u001b[38;5;129;43;01min\u001b[39;49;00m\u001b[43m \u001b[49m\u001b[43mctx\u001b[49m\u001b[43m.\u001b[49m\u001b[43mgraph\u001b[49m\u001b[43m.\u001b[49m\u001b[43mtriples\u001b[49m\u001b[43m(\u001b[49m\u001b[43m(\u001b[49m\u001b[43m_s\u001b[49m\u001b[43m,\u001b[49m\u001b[43m \u001b[49m\u001b[43m_p\u001b[49m\u001b[43m,\u001b[49m\u001b[43m \u001b[49m\u001b[43m_o\u001b[49m\u001b[43m)\u001b[49m\u001b[43m)\u001b[49m\u001b[43m:\u001b[49m\u001b[43m  \u001b[49m\u001b[38;5;66;43;03m# type: ignore[union-attr, arg-type]\u001b[39;49;00m\n\u001b[32m     98\u001b[39m \u001b[43m    \u001b[49m\u001b[38;5;28;43;01mif\u001b[39;49;00m\u001b[43m \u001b[49m\u001b[38;5;28;43;01mNone\u001b[39;49;00m\u001b[43m \u001b[49m\u001b[38;5;129;43;01min\u001b[39;49;00m\u001b[43m \u001b[49m\u001b[43m(\u001b[49m\u001b[43m_s\u001b[49m\u001b[43m,\u001b[49m\u001b[43m \u001b[49m\u001b[43m_p\u001b[49m\u001b[43m,\u001b[49m\u001b[43m \u001b[49m\u001b[43m_o\u001b[49m\u001b[43m)\u001b[49m\u001b[43m:\u001b[49m\n\u001b[32m     99\u001b[39m \u001b[43m        \u001b[49m\u001b[43mc\u001b[49m\u001b[43m \u001b[49m\u001b[43m=\u001b[49m\u001b[43m \u001b[49m\u001b[43mctx\u001b[49m\u001b[43m.\u001b[49m\u001b[43mpush\u001b[49m\u001b[43m(\u001b[49m\u001b[43m)\u001b[49m\n",
      "\u001b[36mFile \u001b[39m\u001b[32m~/zooma2sssom/venv/lib/python3.13/site-packages/rdflib/graph.py:638\u001b[39m, in \u001b[36mGraph.triples\u001b[39m\u001b[34m(self, triple)\u001b[39m\n\u001b[32m    636\u001b[39m         \u001b[38;5;28;01myield\u001b[39;00m _s, p, _o\n\u001b[32m    637\u001b[39m \u001b[38;5;28;01melse\u001b[39;00m:\n\u001b[32m--> \u001b[39m\u001b[32m638\u001b[39m \u001b[43m    \u001b[49m\u001b[38;5;28;43;01mfor\u001b[39;49;00m\u001b[43m \u001b[49m\u001b[43m(\u001b[49m\u001b[43m_s\u001b[49m\u001b[43m,\u001b[49m\u001b[43m \u001b[49m\u001b[43m_p\u001b[49m\u001b[43m,\u001b[49m\u001b[43m \u001b[49m\u001b[43m_o\u001b[49m\u001b[43m)\u001b[49m\u001b[43m,\u001b[49m\u001b[43m \u001b[49m\u001b[43mcg\u001b[49m\u001b[43m \u001b[49m\u001b[38;5;129;43;01min\u001b[39;49;00m\u001b[43m \u001b[49m\u001b[38;5;28;43mself\u001b[39;49m\u001b[43m.\u001b[49m\u001b[43m__store\u001b[49m\u001b[43m.\u001b[49m\u001b[43mtriples\u001b[49m\u001b[43m(\u001b[49m\u001b[43m(\u001b[49m\u001b[43ms\u001b[49m\u001b[43m,\u001b[49m\u001b[43m \u001b[49m\u001b[43mp\u001b[49m\u001b[43m,\u001b[49m\u001b[43m \u001b[49m\u001b[43mo\u001b[49m\u001b[43m)\u001b[49m\u001b[43m,\u001b[49m\u001b[43m \u001b[49m\u001b[43mcontext\u001b[49m\u001b[43m=\u001b[49m\u001b[38;5;28;43mself\u001b[39;49m\u001b[43m)\u001b[49m\u001b[43m:\u001b[49m\n\u001b[32m    639\u001b[39m \u001b[43m        \u001b[49m\u001b[38;5;28;43;01myield\u001b[39;49;00m\u001b[43m \u001b[49m\u001b[43m_s\u001b[49m\u001b[43m,\u001b[49m\u001b[43m \u001b[49m\u001b[43m_p\u001b[49m\u001b[43m,\u001b[49m\u001b[43m \u001b[49m\u001b[43m_o\u001b[49m\n",
      "\u001b[36mFile \u001b[39m\u001b[32m~/zooma2sssom/venv/lib/python3.13/site-packages/rdflib/plugins/stores/memory.py:504\u001b[39m, in \u001b[36mMemory.triples\u001b[39m\u001b[34m(self, triple_pattern, context)\u001b[39m\n\u001b[32m    502\u001b[39m                     triple = (s, predicate, o)\n\u001b[32m    503\u001b[39m                     \u001b[38;5;28;01mif\u001b[39;00m \u001b[38;5;28mself\u001b[39m.__triple_has_context(triple, req_ctx):\n\u001b[32m--> \u001b[39m\u001b[32m504\u001b[39m                         \u001b[38;5;28;01myield\u001b[39;00m triple, \u001b[38;5;28;43mself\u001b[39;49m\u001b[43m.\u001b[49m\u001b[43m__contexts\u001b[49m\u001b[43m(\u001b[49m\u001b[43mtriple\u001b[49m\u001b[43m)\u001b[49m\n\u001b[32m    505\u001b[39m \u001b[38;5;28;01melif\u001b[39;00m object_ \u001b[38;5;129;01mis\u001b[39;00m \u001b[38;5;129;01mnot\u001b[39;00m \u001b[38;5;28;01mNone\u001b[39;00m:  \u001b[38;5;66;03m# object is given, subject+predicate unbound\u001b[39;00m\n\u001b[32m    506\u001b[39m     osp = \u001b[38;5;28mself\u001b[39m.__osp\n",
      "\u001b[36mFile \u001b[39m\u001b[32m~/zooma2sssom/venv/lib/python3.13/site-packages/rdflib/plugins/stores/memory.py:714\u001b[39m, in \u001b[36mMemory.__contexts\u001b[39m\u001b[34m(self, triple)\u001b[39m\n\u001b[32m    709\u001b[39m \u001b[38;5;250m\u001b[39m\u001b[33;03m\"\"\"return a generator for all the non-quoted contexts\u001b[39;00m\n\u001b[32m    710\u001b[39m \u001b[33;03m(dereferenced) the encoded triple appears in\"\"\"\u001b[39;00m\n\u001b[32m    711\u001b[39m \u001b[38;5;66;03m# type error: Argument 2 to \"get\" of \"Mapping\" has incompatible type \"str\"; expected \"Optional[Graph]\"\u001b[39;00m\n\u001b[32m    712\u001b[39m \u001b[38;5;28;01mreturn\u001b[39;00m (\n\u001b[32m    713\u001b[39m     \u001b[38;5;28mself\u001b[39m.__context_obj_map.get(ctx_str, ctx_str)  \u001b[38;5;66;03m# type: ignore[arg-type]\u001b[39;00m\n\u001b[32m--> \u001b[39m\u001b[32m714\u001b[39m     \u001b[38;5;28;01mfor\u001b[39;00m ctx_str \u001b[38;5;129;01min\u001b[39;00m \u001b[38;5;28;43mself\u001b[39;49m\u001b[43m.\u001b[49m\u001b[43m__get_context_for_triple\u001b[49m\u001b[43m(\u001b[49m\u001b[43mtriple\u001b[49m\u001b[43m,\u001b[49m\u001b[43m \u001b[49m\u001b[43mskipQuoted\u001b[49m\u001b[43m=\u001b[49m\u001b[38;5;28;43;01mTrue\u001b[39;49;00m\u001b[43m)\u001b[49m\n\u001b[32m    715\u001b[39m     \u001b[38;5;28;01mif\u001b[39;00m ctx_str \u001b[38;5;129;01mis\u001b[39;00m \u001b[38;5;129;01mnot\u001b[39;00m \u001b[38;5;28;01mNone\u001b[39;00m\n\u001b[32m    716\u001b[39m )\n",
      "\u001b[36mFile \u001b[39m\u001b[32m~/zooma2sssom/venv/lib/python3.13/site-packages/rdflib/plugins/stores/memory.py:663\u001b[39m, in \u001b[36mMemory.__get_context_for_triple\u001b[39m\u001b[34m(self, triple, skipQuoted)\u001b[39m\n\u001b[32m    660\u001b[39m     \u001b[38;5;28;01mreturn\u001b[39;00m ctxs.keys()  \u001b[38;5;66;03m# type: ignore[union-attr]\u001b[39;00m\n\u001b[32m    662\u001b[39m \u001b[38;5;66;03m# type error: Item \"None\" of \"Optional[Dict[Optional[str], bool]]\" has no attribute \"items\"\u001b[39;00m\n\u001b[32m--> \u001b[39m\u001b[32m663\u001b[39m \u001b[38;5;28;01mreturn\u001b[39;00m [ctx \u001b[38;5;28;01mfor\u001b[39;00m ctx, quoted \u001b[38;5;129;01min\u001b[39;00m ctxs.items() \u001b[38;5;28;01mif\u001b[39;00m \u001b[38;5;129;01mnot\u001b[39;00m quoted]\n",
      "\u001b[31mKeyboardInterrupt\u001b[39m: "
     ]
    }
   ],
   "source": [
    "results = []\n",
    "\n",
    "for index, row in mappings.iterrows():\n",
    "    label = row['literal']\n",
    "    term = row['object_id']\n",
    "    curie = row['object_id'].replace('http://www.ebi.ac.uk/efo/EFO_', 'EFO:')\n",
    "    alias_map = efo.alias_map_by_curie(curie)\n",
    "    all_labels = [efo.label(curie)] + alias_map['oio:hasExactSynonym']\n",
    "    if not label in all_labels:\n",
    "        results.append({\n",
    "            'term': curie,\n",
    "            'ontology_label': all_labels[0],\n",
    "            'zooma_label': label,\n",
    "            'status': 'MISSING'\n",
    "        })\n",
    "    else:\n",
    "        results.append({\n",
    "            'term': curie,\n",
    "            'ontology_label': all_labels[0],\n",
    "            'zooma_label': label,\n",
    "            'status': 'PRESENT'\n",
    "        })\n"
   ]
  }
 ],
 "metadata": {
  "kernelspec": {
   "display_name": "venv",
   "language": "python",
   "name": "python3"
  },
  "language_info": {
   "codemirror_mode": {
    "name": "ipython",
    "version": 3
   },
   "file_extension": ".py",
   "mimetype": "text/x-python",
   "name": "python",
   "nbconvert_exporter": "python",
   "pygments_lexer": "ipython3",
   "version": "3.13.2"
  }
 },
 "nbformat": 4,
 "nbformat_minor": 2
}
